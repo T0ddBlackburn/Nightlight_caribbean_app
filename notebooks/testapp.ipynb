{
 "cells": [
  {
   "cell_type": "code",
   "execution_count": 170,
   "metadata": {},
   "outputs": [],
   "source": [
    "####################\n",
    "#set up packages \n",
    "####################\n",
    "import ee\n",
    "import geemap\n",
    "import numpy as np\n",
    "import ipyleaflet\n",
    "from ipywidgets import interact, interactive, fixed, interact_manual\n",
    "import ipywidgets as widgets\n",
    "import geemap.colormaps as cm\n",
    "\n",
    "\n",
    "\n"
   ]
  },
  {
   "cell_type": "markdown",
   "metadata": {},
   "source": [
    "##Program to test mapping##"
   ]
  },
  {
   "cell_type": "code",
   "execution_count": 171,
   "metadata": {},
   "outputs": [],
   "source": [
    "\n",
    "####################################\n",
    "#country list to loop through\n",
    "####################################\n",
    "Map=geemap.Map() #setting up the map to display \n",
    "countries = ee.FeatureCollection('FAO/GAUL/2015/level0') #countries is the dataset\n",
    " \n",
    "countrylist=['Bahamas','Barbados','Cuba','Dominican Republic','Haiti','Trinidad and Tobago']#['Jamaica','Puerto Rico',\n",
    "stormlist=['hellow','test']\n"
   ]
  },
  {
   "cell_type": "code",
   "execution_count": 172,
   "metadata": {},
   "outputs": [],
   "source": [
    "#visualisation parameteres are set up\n",
    "Palette= cm.palettes.brg\n",
    "\n",
    "Vis_params= {\n",
    "    'min': -100,\n",
    "    'max': 100,\n",
    "    'palette': Palette}\n",
    "\n",
    "\n",
    "def threshold(img, level):\n",
    "    mask=img.lt(level)\n",
    "    #mask=mask.selfMask()\n",
    "    return mask\n",
    "\n",
    "Start_date='2017-08-01'\n",
    "End_date='2017-10-01'\n",
    "\n",
    "#seting up nightlight VIIRS monthly\n",
    "Nightlight= ee.ImageCollection(\"NOAA/VIIRS/DNB/MONTHLY_V1/VCMSLCFG\").select('avg_rad') #the dataset and band selected\n",
    "JamaicanNight= Nightlight.filterDate(Start_date,'2021-01-01') #the dataset is cutdown to the relivant dates and region removed .filterbounds(roi)\n",
    "\n",
    "\n",
    "\n"
   ]
  },
  {
   "cell_type": "code",
   "execution_count": 173,
   "metadata": {},
   "outputs": [
    {
     "data": {
      "application/vnd.jupyter.widget-view+json": {
       "model_id": "4fcc361e364646e09e2a7df1ca9ec21e",
       "version_major": 2,
       "version_minor": 0
      },
      "text/plain": [
       "interactive(children=(Dropdown(description='x', options=('Bahamas', 'Barbados', 'Cuba', 'Dominican Republic', …"
      ]
     },
     "metadata": {},
     "output_type": "display_data"
    },
    {
     "data": {
      "application/vnd.jupyter.widget-view+json": {
       "model_id": "6b8e3f08e317443089d0b7a11e5b2a01",
       "version_major": 2,
       "version_minor": 0
      },
      "text/plain": [
       "Map(center=[24.202056257216125, -76.48643545294412], controls=(WidgetControl(options=['position', 'transparent…"
      ]
     },
     "metadata": {},
     "output_type": "display_data"
    }
   ],
   "source": [
    "t_level=5\n",
    "\n",
    "def func(x,y):\n",
    "\n",
    "\n",
    "    countryname=x\n",
    "    roi = countries.filter(ee.Filter.eq('ADM0_NAME', countryname)) #roi is a subset of the countries dataset \n",
    "    roigeom=roi.geometry() #set up as a geometry to allow .filterBounds and .clip would work in other ways but this is most efficient\n",
    "    roicenter=roigeom.centroid() #this allows the map to be centered on the center of the roi\n",
    "    Map.addLayer(roigeom,{},'Region of Interest')\n",
    "    Map.centerObject(roi,5)\n",
    "\n",
    "    stormname=y\n",
    "    print(stormname)\n",
    "\n",
    "    # print(type(roi))\n",
    "    #before image is set up\n",
    "    Before = ee.Image(JamaicanNight.filterDate(Start_date).mean())\n",
    "    Map.addLayer(Before.clipToCollection(roi),{},'Before2')\n",
    "    Before = Before.clipToCollection(roi)\n",
    "\n",
    "    #before image is thresholded and mask set up\n",
    "    Before_mask = threshold(Before, t_level)\n",
    "    Before_mask = Before_mask.clipToCollection(roi)\n",
    "    Before_masked=Before.where(Before_mask,0)\n",
    "\n",
    "    #After image set up\n",
    "    After = ee.Image(JamaicanNight.filterDate(End_date).mean())\n",
    "    Map.addLayer(After.clipToCollection(roi),{},'After 2')\n",
    "    After = After.clipToCollection(roi)\n",
    "\n",
    "    #After image is thresholded and mask set up \n",
    "    # After_mask = threshold(After, t_level)\n",
    "    # After_mask = After_mask.clip(roi)\n",
    "    After_masked=After.where(Before_mask,0) #here before mask is used because if the light drops to less than threshold in interesting areas this is useful information\n",
    "\n",
    "    #Before and after added to map\n",
    "    Map.addLayer(Before_mask,{},'Before mask')\n",
    "    Map.addLayer(Before_masked,{},'Before')\n",
    "    Map.addLayer(After_masked,{},'After')\n",
    "\n",
    "\n",
    "    #the calculation for the percentage difference set up (could be written as 1 equation)\n",
    "    pd=After_masked.subtract(Before_masked)\n",
    "    pd=pd.divide(Before_masked)\n",
    "    pd=pd.multiply(100)\n",
    "\n",
    "    #pd mask is set up, the .mask function every pixel with or lower value in the given image are transparent, which is why before.not() is used\n",
    "    pd_mask = Before_mask.Not()\n",
    "    pd_mask = pd_mask.clipToCollection(roi)\n",
    "    pd_masked=pd.mask(pd_mask)\n",
    "\n",
    "    #visualisation for export set up\n",
    "    export=pd_masked.visualize(**{\n",
    "        'min': -20,\n",
    "        'max': 20,\n",
    "        'palette': ['blue','red','green']}).clip(roi) #was manually entered for some reason the previous parameters where not acepted because of the palette\n",
    "\n",
    "    #added to map with color bar\n",
    "    Map.addLayer(pd_masked,Vis_params,'Difference')\n",
    "    Map.add_colorbar(Vis_params, label='percentage difference in nightlight',layer_name='color bar')\n",
    "    Map.addLayer(export,{},'export')\n",
    "    \n",
    "  \n",
    "\n",
    "dropdown = interact(func, x=countrylist, y=stormlist)\n",
    "Map\n"
   ]
  },
  {
   "cell_type": "code",
   "execution_count": 174,
   "metadata": {},
   "outputs": [],
   "source": [
    "# def test1(x,y):\n",
    "#     print(x)\n",
    "#     print(y)\n",
    "\n",
    "\n",
    "\n",
    "# test=interactive(test1,x=['banana','test'],y=['apples','grapes'])\n",
    "\n",
    "# test\n"
   ]
  }
 ],
 "metadata": {
  "kernelspec": {
   "display_name": "Python 3.9.7 ('mphysenv')",
   "language": "python",
   "name": "python3"
  },
  "language_info": {
   "codemirror_mode": {
    "name": "ipython",
    "version": 3
   },
   "file_extension": ".py",
   "mimetype": "text/x-python",
   "name": "python",
   "nbconvert_exporter": "python",
   "pygments_lexer": "ipython3",
   "version": "3.9.7"
  },
  "orig_nbformat": 4,
  "vscode": {
   "interpreter": {
    "hash": "1049755493335da8d5706500506f35eeff45da7710878ee10f20f99301c771ba"
   }
  }
 },
 "nbformat": 4,
 "nbformat_minor": 2
}
