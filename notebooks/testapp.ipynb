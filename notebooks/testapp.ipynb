{
 "cells": [
  {
   "cell_type": "code",
   "execution_count": 1,
   "metadata": {},
   "outputs": [],
   "source": [
    "####################\n",
    "#set up packages \n",
    "####################\n",
    "import ee\n",
    "import geemap\n",
    "import numpy as np\n",
    "import ipyleaflet\n",
    "from ipywidgets import interact, interactive, fixed, interact_manual\n",
    "import ipywidgets as widgets\n",
    "import geemap.colormaps as cm\n",
    "import pandas as pd\n",
    "import matplotlib.pyplot as plt\n",
    "from ipywidgets import Output\n",
    "from ipyleaflet import WidgetControl\n",
    "\n",
    "\n"
   ]
  },
  {
   "cell_type": "markdown",
   "metadata": {},
   "source": [
    "##Program to test mapping##"
   ]
  },
  {
   "cell_type": "code",
   "execution_count": 2,
   "metadata": {},
   "outputs": [],
   "source": [
    "\n",
    "####################################\n",
    "#country list to loop through\n",
    "####################################\n",
    "Map=geemap.Map() #setting up the map to display \n",
    "countries = ee.FeatureCollection('FAO/GAUL/2015/level0') #countries is the dataset\n",
    "Nightlight= ee.ImageCollection(\"NOAA/VIIRS/DNB/MONTHLY_V1/VCMCFG\").select('avg_rad') #the dataset and band selected\n",
    "JamaicanNight= Nightlight #the dataset is cutdown to the relivant dates and region removed .filterbounds(roi)\n",
    "    \n",
    "countrylist=['Bahamas','Barbados','Cuba','Dominican Republic','Haiti','Trinidad and Tobago']#['Jamaica','Puerto Rico']\n",
    "storms_df=pd.read_csv('storms_data.csv')\n",
    "stormlist=storms_df['Event Name'].unique()\n",
    "\n"
   ]
  },
  {
   "cell_type": "code",
   "execution_count": 3,
   "metadata": {},
   "outputs": [],
   "source": [
    "#visualisation parameteres are set up\n",
    "Palette= cm.palettes.brg\n",
    "\n",
    "Vis_params= {\n",
    "    'min': -20,\n",
    "    'max': 20,\n",
    "    'palette': ['blue','red','green']}\n",
    "\n",
    "\n",
    "def threshold(img, level):\n",
    "    mask=img.lt(level)\n",
    "    #mask=mask.selfMask()\n",
    "    return mask\n",
    "\n",
    "# Start_date='2017-08-01'\n",
    "# End_date='2017-10-01'\n",
    "\n",
    "#seting up nightlight VIIRS monthly\n",
    "\n",
    "Map.add_colorbar(Vis_params, label='percentage difference in nightlight',layer_name='color bar')\n",
    "\n",
    "\n"
   ]
  },
  {
   "cell_type": "code",
   "execution_count": 5,
   "metadata": {},
   "outputs": [
    {
     "data": {
      "application/vnd.jupyter.widget-view+json": {
       "model_id": "fe7e6880143e48b6b5ccf79a8a16fae8",
       "version_major": 2,
       "version_minor": 0
      },
      "text/plain": [
       "interactive(children=(Dropdown(description='Country', options=('Bahamas', 'Barbados', 'Cuba', 'Dominican Repub…"
      ]
     },
     "metadata": {},
     "output_type": "display_data"
    },
    {
     "data": {
      "application/vnd.jupyter.widget-view+json": {
       "model_id": "54a05bc405db433c82343b92bf42ac2f",
       "version_major": 2,
       "version_minor": 0
      },
      "text/plain": [
       "Map(bottom=3828.0, center=[24.202056257216125, -76.48643545294412], controls=(WidgetControl(options=['position…"
      ]
     },
     "metadata": {},
     "output_type": "display_data"
    }
   ],
   "source": [
    "t_level=5\n",
    "\n",
    "def extract_nightlight(image):\n",
    "    image=image.clipToCollection(roi)\n",
    "    nightlight=image.reduceRegion(reducer=ee.Reducer.sum(), geometry=roigeom, scale=1000).values().getInfo()\n",
    "    print(nightlight)\n",
    "    date = ee.Date(image.get('system:time_start'))\n",
    "    return nightlight,date\n",
    "\n",
    "\n",
    "def func(Country,Storm):\n",
    "    \n",
    "    stormname=Storm\n",
    "    countryname=Country\n",
    "    roi = countries.filter(ee.Filter.eq('ADM0_NAME', countryname)) #roi is a subset of the countries dataset \n",
    "    roigeom=roi.geometry() #set up as a geometry to allow .filterBounds and .clip would work in other ways but this is most efficient\n",
    "    roicenter=roigeom.centroid() #this allows the map to be centered on the center of the roi\n",
    "    # Map.addLayer(roigeom,{},'Region of Interest')\n",
    "    Map.centerObject(roi,5)\n",
    "\n",
    "\n",
    "    startyear=storms_df.loc[storms_df['Event Name']==stormname]['Start Year'].values[0]\n",
    "    startmonth=storms_df.loc[storms_df['Event Name']==stormname]['Start Month'].values[0]\n",
    "    \n",
    "    if startmonth < 10:\n",
    "        Start_date=\"%i-0%i-01\"%(startyear,startmonth)\n",
    "    if startmonth >=10:\n",
    "         Start_date=\"%i-%i-01\"%(startyear,startmonth)\n",
    "\n",
    "        \n",
    "    if (startmonth+1) < 10:\n",
    "        End_date=\"%i-0%i-01\"%(startyear,startmonth+1)\n",
    "    if (startmonth+1) >=10:\n",
    "        End_date=\"%i-%i-01\"%(startyear,startmonth+1)\n",
    "    if (startmonth+1) >=12:\n",
    "        End_date=\"%i-%i-01\"%(startyear+1,startmonth+1-12)\n",
    "\n",
    "\n",
    "\n",
    "    # print(type(roi))\n",
    "    #before image is set up\n",
    "    Before = ee.Image(JamaicanNight.filterDate(Start_date).mean())\n",
    "    #Map.addLayer(Before.clipToCollection(roi),{},'Before2')\n",
    "    Before = Before.clipToCollection(roi)\n",
    "\n",
    "    #before image is thresholded and mask set up\n",
    "    Before_mask = threshold(Before, t_level)\n",
    "    Before_mask = Before_mask.clipToCollection(roi)\n",
    "    Before_masked=Before.where(Before_mask,0)\n",
    "\n",
    "    #After image set up\n",
    "    After = ee.Image(JamaicanNight.filterDate(End_date).mean())\n",
    "    #Map.addLayer(After.clipToCollection(roi),{},'After 2')\n",
    "    After = After.clipToCollection(roi)\n",
    "\n",
    "    #After image is thresholded and mask set up \n",
    "    # After_mask = threshold(After, t_level)\n",
    "    # After_mask = After_mask.clip(roi)\n",
    "    After_masked=After.where(Before_mask,0) #here before mask is used because if the light drops to less than threshold in interesting areas this is useful information\n",
    "\n",
    "    #Before and after added to map\n",
    "    # Map.addLayer(Before_mask,{},'Before mask')\n",
    "    # Map.addLayer(Before_masked,{},'Before')\n",
    "    # Map.addLayer(After_masked,{},'After')\n",
    "\n",
    "\n",
    "    #the calculation for the percentage difference set up (could be written as 1 equation)\n",
    "    pd=After_masked.subtract(Before_masked)\n",
    "    pd=pd.divide(Before_masked)\n",
    "    pd=pd.multiply(100)\n",
    "\n",
    "    #pd mask is set up, the .mask function every pixel with or lower value in the given image are transparent, which is why before.not() is used\n",
    "    pd_mask = Before_mask.Not()\n",
    "    pd_mask = pd_mask.clipToCollection(roi)\n",
    "    pd_masked=pd.mask(pd_mask)\n",
    "\n",
    "    #visualisation for export set up\n",
    "    export=pd_masked.visualize(**{\n",
    "        'min': -20,\n",
    "        'max': 20,\n",
    "        'palette': ['blue','red','green']}).clip(roi) #was manually entered for some reason the previous parameters where not acepted because of the palette\n",
    "\n",
    "    #added to map with color bar\n",
    "    Map.addLayer(pd_masked,Vis_params,'Difference')\n",
    "\n",
    "    # # plotting nightlight over time \n",
    "    # nightlights=[]\n",
    "    # dates=[]\n",
    "    # nightlights,dates=JamaicanNight.map(extract_nightlight)\n",
    "    # print(nightlights,dates)\n",
    "\n",
    "\n",
    "    # t = np.arange(0.0, 2.0, 0.01)\n",
    "    # s = 1 + np.sin(2 * np.pi * t)\n",
    "\n",
    "    # fig, ax = plt.subplots()\n",
    "    # ax.plot(t, s)\n",
    "\n",
    "    # ax.set(\n",
    "    #     xlabel='time (s)', ylabel='voltage (mV)', title='About as simple as it gets, folks'\n",
    "    # )\n",
    "    # ax.grid()\n",
    "\n",
    "    # # Create an output widget to host the plot\n",
    "    # output_widget = Output()\n",
    "\n",
    "    # # Show the plot on the widget\n",
    "    # with output_widget:\n",
    "    #     output_widget.clear_output()\n",
    "    #     plt.show()\n",
    "\n",
    "    # # Add the widget as a control to the map\n",
    "    # output_control = WidgetControl(widget=output_widget, position=\"bottomright\")\n",
    "    # Map.add_control(output_control)\n",
    "    #     # Map.addLayer(export,{},'export')\n",
    "        \n",
    "    \n",
    "\n",
    "dropdown = interact(func, Country=countrylist, Storm=stormlist)\n",
    "Map\n"
   ]
  },
  {
   "cell_type": "code",
   "execution_count": null,
   "metadata": {},
   "outputs": [
    {
     "ename": "AttributeError",
     "evalue": "'ImageCollection' object has no attribute 'clipToCollection'",
     "output_type": "error",
     "traceback": [
      "\u001b[0;31m---------------------------------------------------------------------------\u001b[0m",
      "\u001b[0;31mAttributeError\u001b[0m                            Traceback (most recent call last)",
      "\u001b[0;32m/var/folders/hc/mk74hb897xgb8kl8md0tpywc0000gn/T/ipykernel_2669/1607843245.py\u001b[0m in \u001b[0;36m<module>\u001b[0;34m\u001b[0m\n\u001b[1;32m      1\u001b[0m \u001b[0mroi\u001b[0m \u001b[0;34m=\u001b[0m \u001b[0mcountries\u001b[0m\u001b[0;34m.\u001b[0m\u001b[0mfilter\u001b[0m\u001b[0;34m(\u001b[0m\u001b[0mee\u001b[0m\u001b[0;34m.\u001b[0m\u001b[0mFilter\u001b[0m\u001b[0;34m.\u001b[0m\u001b[0meq\u001b[0m\u001b[0;34m(\u001b[0m\u001b[0;34m'ADM0_NAME'\u001b[0m\u001b[0;34m,\u001b[0m \u001b[0;34m'Cuba'\u001b[0m\u001b[0;34m)\u001b[0m\u001b[0;34m)\u001b[0m\u001b[0;34m\u001b[0m\u001b[0;34m\u001b[0m\u001b[0m\n\u001b[0;32m----> 2\u001b[0;31m \u001b[0mSeries\u001b[0m \u001b[0;34m=\u001b[0m \u001b[0mJamaicanNight\u001b[0m\u001b[0;34m.\u001b[0m\u001b[0mclipToCollection\u001b[0m\u001b[0;34m(\u001b[0m\u001b[0mroi\u001b[0m\u001b[0;34m)\u001b[0m\u001b[0;34m\u001b[0m\u001b[0;34m\u001b[0m\u001b[0m\n\u001b[0m\u001b[1;32m      3\u001b[0m \u001b[0mprint\u001b[0m\u001b[0;34m(\u001b[0m\u001b[0mSeries\u001b[0m\u001b[0;34m.\u001b[0m\u001b[0mDate\u001b[0m\u001b[0;34m(\u001b[0m\u001b[0mimage\u001b[0m\u001b[0;34m.\u001b[0m\u001b[0mget\u001b[0m\u001b[0;34m(\u001b[0m\u001b[0;34m'system:time_start'\u001b[0m\u001b[0;34m)\u001b[0m\u001b[0;34m)\u001b[0m\u001b[0;34m.\u001b[0m\u001b[0mformat\u001b[0m\u001b[0;34m(\u001b[0m\u001b[0;34m\"yyyy-MM-dd\"\u001b[0m\u001b[0;34m)\u001b[0m\u001b[0;34m)\u001b[0m\u001b[0;34m\u001b[0m\u001b[0;34m\u001b[0m\u001b[0m\n",
      "\u001b[0;31mAttributeError\u001b[0m: 'ImageCollection' object has no attribute 'clipToCollection'"
     ]
    }
   ],
   "source": [
    "roi = countries.filter(ee.Filter.eq('ADM0_NAME', 'Cuba'))\n",
    "Series = JamaicanNight.clipToCollection(roi)\n",
    "print(Series.Date(image.get('system:time_start')).format(\"yyyy-MM-dd\"))"
   ]
  }
 ],
 "metadata": {
  "kernelspec": {
   "display_name": "Python 3.9.7 ('mphysenv')",
   "language": "python",
   "name": "python3"
  },
  "language_info": {
   "codemirror_mode": {
    "name": "ipython",
    "version": 3
   },
   "file_extension": ".py",
   "mimetype": "text/x-python",
   "name": "python",
   "nbconvert_exporter": "python",
   "pygments_lexer": "ipython3",
   "version": "3.9.7"
  },
  "orig_nbformat": 4,
  "vscode": {
   "interpreter": {
    "hash": "1049755493335da8d5706500506f35eeff45da7710878ee10f20f99301c771ba"
   }
  }
 },
 "nbformat": 4,
 "nbformat_minor": 2
}
