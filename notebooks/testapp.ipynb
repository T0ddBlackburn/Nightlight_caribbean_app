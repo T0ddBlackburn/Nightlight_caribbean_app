{
 "cells": [
  {
   "cell_type": "code",
   "execution_count": 74,
   "metadata": {},
   "outputs": [],
   "source": [
    "####################\n",
    "#set up packages \n",
    "####################\n",
    "import ee\n",
    "import geemap\n",
    "import numpy as np\n",
    "import ipywidgets as widgets\n",
    "import ipyleaflet\n",
    "\n",
    "\n",
    "\n",
    "\n"
   ]
  },
  {
   "cell_type": "markdown",
   "metadata": {},
   "source": [
    "##Program to test mapping##"
   ]
  },
  {
   "cell_type": "code",
   "execution_count": 75,
   "metadata": {},
   "outputs": [],
   "source": [
    "\n",
    "####################################\n",
    "#country list to loop through\n",
    "####################################\n",
    "Map=geemap.Map() #setting up the map to display \n",
    "countries = ee.FeatureCollection('FAO/GAUL/2015/level0') #countries is the dataset\n",
    " \n",
    "countrylist=['Bahamas','Barbados','Cuba','Dominican Republic','Haiti','Trinidad and Tobago']#['Jamaica','Puerto Rico',\n",
    "\n"
   ]
  },
  {
   "cell_type": "code",
   "execution_count": 78,
   "metadata": {},
   "outputs": [
    {
     "data": {
      "application/vnd.jupyter.widget-view+json": {
       "model_id": "d29ae5d8993a4e7eadb864663533a828",
       "version_major": 2,
       "version_minor": 0
      },
      "text/plain": [
       "interactive(children=(Dropdown(description='x', options=('Bahamas', 'Barbados', 'Cuba', 'Dominican Republic', …"
      ]
     },
     "metadata": {},
     "output_type": "display_data"
    },
    {
     "data": {
      "application/vnd.jupyter.widget-view+json": {
       "model_id": "ec9861597c144b4686d0ae205f31e3d2",
       "version_major": 2,
       "version_minor": 0
      },
      "text/plain": [
       "Map(bottom=4094.0, center=[24.202056257216125, -76.48643545294412], controls=(WidgetControl(options=['position…"
      ]
     },
     "metadata": {},
     "output_type": "display_data"
    }
   ],
   "source": [
    "from ipywidgets import interact, interactive, fixed, interact_manual\n",
    "import ipywidgets as widgets\n",
    "\n",
    "\n",
    "def f(x):\n",
    "    countryname=x\n",
    "    roi = countries.filter(ee.Filter.eq('ADM0_NAME', countryname)) #roi is a subset of the countries dataset \n",
    "    roigeom=roi.geometry() #set up as a geometry to allow .filterBounds and .clip would work in other ways but this is most efficient\n",
    "    roicenter=roigeom.centroid() #this allows the map to be centered on the center of the roi\n",
    "    Map.addLayer(roigeom,{},'Region of Interest')\n",
    "    Map.centerObject(roi,5)\n",
    "\n",
    "dropdown = interact(f, x=countrylist)\n",
    "# dropdown_control = ipyleaflet.WidgetControl(widget=dropdown, position='bottomright')\n",
    "# Map.add_control(dropdown_control)\n",
    "Map"
   ]
  }
 ],
 "metadata": {
  "kernelspec": {
   "display_name": "Python 3.9.7 ('mphysenv')",
   "language": "python",
   "name": "python3"
  },
  "language_info": {
   "codemirror_mode": {
    "name": "ipython",
    "version": 3
   },
   "file_extension": ".py",
   "mimetype": "text/x-python",
   "name": "python",
   "nbconvert_exporter": "python",
   "pygments_lexer": "ipython3",
   "version": "3.9.7"
  },
  "orig_nbformat": 4,
  "vscode": {
   "interpreter": {
    "hash": "1049755493335da8d5706500506f35eeff45da7710878ee10f20f99301c771ba"
   }
  }
 },
 "nbformat": 4,
 "nbformat_minor": 2
}
