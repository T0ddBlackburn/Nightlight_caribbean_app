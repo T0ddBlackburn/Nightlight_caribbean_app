{
 "cells": [
  {
   "cell_type": "code",
   "execution_count": 1,
   "metadata": {},
   "outputs": [],
   "source": [
    "####################\n",
    "#set up packages \n",
    "####################\n",
    "import ee\n",
    "import pandas as pd\n",
    "import geemap\n",
    "import time\n",
    "from datetime import date\n",
    "import numpy as np\n",
    "import os, sys\n",
    "import seaborn as sns\n",
    "import matplotlib.pyplot as plt\n",
    "import geemap.colormaps as cm\n",
    "import ipywidgets as widgets\n",
    "\n",
    "\n",
    "\n",
    "\n"
   ]
  },
  {
   "cell_type": "markdown",
   "metadata": {},
   "source": [
    "##Program to test mapping##"
   ]
  },
  {
   "cell_type": "code",
   "execution_count": 3,
   "metadata": {},
   "outputs": [],
   "source": [
    "\n",
    "####################################\n",
    "#country list to loop through\n",
    "####################################\n",
    "Map=geemap.Map() #setting up the map to display \n",
    "countries = ee.FeatureCollection('FAO/GAUL/2015/level0') #countries is the dataset\n",
    " \n",
    "countrylist=['Bahamas','Barbados','Cuba','Dominican Republic','Haiti','Trinidad and Tobago']#['Jamaica','Puerto Rico',\n",
    "\n"
   ]
  },
  {
   "cell_type": "code",
   "execution_count": 4,
   "metadata": {},
   "outputs": [
    {
     "data": {
      "application/vnd.jupyter.widget-view+json": {
       "model_id": "041e638d042143aeaff6aa262100f8c8",
       "version_major": 2,
       "version_minor": 0
      },
      "text/plain": [
       "Dropdown(description='Country:', options=('Bahamas', 'Barbados', 'Cuba', 'Dominican Republic', 'Haiti', 'Trini…"
      ]
     },
     "metadata": {},
     "output_type": "display_data"
    }
   ],
   "source": [
    "dropdown = widgets.Dropdown(\n",
    "    options=countrylist,\n",
    "    description='Country:'\n",
    ")\n",
    "dropdown"
   ]
  },
  {
   "cell_type": "code",
   "execution_count": 5,
   "metadata": {},
   "outputs": [
    {
     "data": {
      "application/vnd.jupyter.widget-view+json": {
       "model_id": "b783e0f9f93b46c2816f41736e4b352e",
       "version_major": 2,
       "version_minor": 0
      },
      "text/plain": [
       "Map(center=[40, -100], controls=(WidgetControl(options=['position', 'transparent_bg'], widget=HBox(children=(T…"
      ]
     },
     "metadata": {},
     "output_type": "display_data"
    }
   ],
   "source": [
    "\n",
    "countryname=dropdown.value\n",
    "roi = countries.filter(ee.Filter.eq('ADM0_NAME', countryname)) #roi is a subset of the countries dataset \n",
    "roigeom=roi.geometry() #set up as a geometry to allow .filterBounds and .clip would work in other ways but this is most efficient\n",
    "roicenter=roigeom.centroid().getInfo() #this allows the map to be centered on the center of the roi\n",
    "Map.addLayer(roigeom,{},'Region of Interest')\n",
    "Map.centerObject(roigeom)\n",
    "Map"
   ]
  },
  {
   "cell_type": "code",
   "execution_count": null,
   "metadata": {},
   "outputs": [],
   "source": []
  }
 ],
 "metadata": {
  "kernelspec": {
   "display_name": "Python 3.9.7 ('mphysenv')",
   "language": "python",
   "name": "python3"
  },
  "language_info": {
   "codemirror_mode": {
    "name": "ipython",
    "version": 3
   },
   "file_extension": ".py",
   "mimetype": "text/x-python",
   "name": "python",
   "nbconvert_exporter": "python",
   "pygments_lexer": "ipython3",
   "version": "3.9.7"
  },
  "orig_nbformat": 4,
  "vscode": {
   "interpreter": {
    "hash": "1049755493335da8d5706500506f35eeff45da7710878ee10f20f99301c771ba"
   }
  }
 },
 "nbformat": 4,
 "nbformat_minor": 2
}
